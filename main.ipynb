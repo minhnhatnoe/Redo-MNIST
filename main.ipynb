{
 "cells": [
  {
   "cell_type": "markdown",
   "metadata": {},
   "source": [
    "## Settings"
   ]
  },
  {
   "cell_type": "code",
   "execution_count": 1,
   "metadata": {},
   "outputs": [],
   "source": [
    "import torch\n",
    "\n",
    "PARTS = 10\n",
    "IMAGE_SIZE = (40, 40)\n",
    "BATCH_SIZE = 32\n",
    "assert torch.cuda.is_available()\n",
    "DEVICE = torch.device('cuda')\n"
   ]
  },
  {
   "cell_type": "markdown",
   "metadata": {},
   "source": [
    "## Load the Dataset"
   ]
  },
  {
   "cell_type": "code",
   "execution_count": 2,
   "metadata": {},
   "outputs": [],
   "source": [
    "import torchvision.transforms\n",
    "to_tensor = torchvision.transforms.ToTensor()\n",
    "upscaling = torchvision.transforms.Resize(size=IMAGE_SIZE, antialias=True)\n",
    "dataset_transform = torchvision.transforms.Compose([to_tensor, upscaling])\n"
   ]
  },
  {
   "cell_type": "code",
   "execution_count": 3,
   "metadata": {},
   "outputs": [],
   "source": [
    "import torch.utils.data\n",
    "import torchvision.datasets\n",
    "\n",
    "train = torchvision.datasets.MNIST(\n",
    "    root = \"./data\",\n",
    "    train = True,\n",
    "    download = True,\n",
    "    transform = dataset_transform\n",
    ")\n",
    "\n",
    "train_parts = torch.utils.data.random_split(train, lengths=[1/PARTS - 1e-12]*PARTS)\n"
   ]
  },
  {
   "cell_type": "markdown",
   "metadata": {},
   "source": [
    "## Build the Model\n"
   ]
  },
  {
   "cell_type": "code",
   "execution_count": 4,
   "metadata": {},
   "outputs": [],
   "source": [
    "import torch.nn\n",
    "\n",
    "\n",
    "class SimpleCNN(torch.nn.Module):\n",
    "    def __init__(self):\n",
    "        super().__init__()\n",
    "\n",
    "        #  1x40x40\n",
    "        self.conv1 = torch.nn.Conv2d(\n",
    "            in_channels=1, out_channels=32, kernel_size=3, padding='same')\n",
    "        # 32x40x40\n",
    "        self.maxpl = torch.nn.MaxPool2d(kernel_size=2)\n",
    "        # 16x20x20\n",
    "        self.conv2 = torch.nn.Conv2d(\n",
    "            in_channels=32, out_channels=64, kernel_size=3, padding='same')\n",
    "        # 64x20x20\n",
    "        self.avgpl = torch.nn.AvgPool2d(kernel_size=4)\n",
    "        # 64x5x5\n",
    "        self.flatt = torch.nn.Flatten()\n",
    "        # 1600\n",
    "        self.line1 = torch.nn.Linear(in_features=1600, out_features=128)\n",
    "        # 128\n",
    "        self.activ = torch.nn.ReLU()\n",
    "        # 128\n",
    "        self.feats = torch.nn.Linear(in_features=128, out_features=10)\n",
    "        # 10\n",
    "\n",
    "    def forward(self, x: torch.Tensor):\n",
    "        x = self.conv1(x)\n",
    "        x = self.maxpl(x)\n",
    "        x = self.conv2(x)\n",
    "        x = self.avgpl(x)\n",
    "        x = self.flatt(x)\n",
    "        x = self.line1(x)\n",
    "        x = self.activ(x)\n",
    "        x = self.feats(x)\n",
    "        return x\n",
    "\n",
    "\n",
    "model = SimpleCNN().to(DEVICE)"
   ]
  },
  {
   "cell_type": "markdown",
   "metadata": {},
   "source": [
    "## Train the Model\n"
   ]
  },
  {
   "cell_type": "code",
   "execution_count": 5,
   "metadata": {},
   "outputs": [],
   "source": [
    "import torch.nn\n",
    "\n",
    "criterion = torch.nn.CrossEntropyLoss().to(DEVICE)\n",
    "optimizer = torch.optim.Adam(model.parameters())\n"
   ]
  },
  {
   "cell_type": "code",
   "execution_count": 6,
   "metadata": {},
   "outputs": [],
   "source": [
    "from torch.utils.data import DataLoader, ConcatDataset\n",
    "\n",
    "def generate_loaders(vpart: int) -> tuple[DataLoader, DataLoader]:\n",
    "    train_dataset = ConcatDataset(train_parts[:vpart] + train_parts[vpart + 1:])\n",
    "    train_loader = DataLoader(train_dataset, batch_size = BATCH_SIZE, shuffle=True)\n",
    "\n",
    "    validation_dataset = train_parts[vpart]\n",
    "    validation_loader = DataLoader(validation_dataset, batch_size = BATCH_SIZE, shuffle=False)\n",
    "    return train_loader, validation_loader\n"
   ]
  },
  {
   "cell_type": "code",
   "execution_count": 7,
   "metadata": {},
   "outputs": [],
   "source": [
    "from tqdm.notebook import tqdm_notebook\n",
    "import torch\n",
    "import torch.utils.data\n",
    "\n",
    "def train_epoch(loader: torch.utils.data.DataLoader, train: bool) -> tuple[int, float]:\n",
    "    total_acc = 0\n",
    "    total_loss = 0\n",
    "\n",
    "    for x, y in tqdm_notebook(loader):\n",
    "        x, y = x.to(DEVICE), y.to(DEVICE)\n",
    "\n",
    "        output = model(x)\n",
    "        batch_loss = criterion(output, y)\n",
    "        total_loss += batch_loss\n",
    "        \n",
    "        if train:\n",
    "            optimizer.zero_grad()\n",
    "            batch_loss.backward()\n",
    "            optimizer.step()\n",
    "\n",
    "        total_acc += (output.argmax(dim=1) == y).sum()\n",
    "    return total_acc.item()/len(loader.dataset), total_loss.item()/len(loader.dataset)\n"
   ]
  },
  {
   "cell_type": "code",
   "execution_count": 8,
   "metadata": {},
   "outputs": [
    {
     "data": {
      "application/vnd.jupyter.widget-view+json": {
       "model_id": "baa36e78eaa3423585c4709f2c2085ac",
       "version_major": 2,
       "version_minor": 0
      },
      "text/plain": [
       "  0%|          | 0/1688 [00:00<?, ?it/s]"
      ]
     },
     "metadata": {},
     "output_type": "display_data"
    },
    {
     "data": {
      "application/vnd.jupyter.widget-view+json": {
       "model_id": "bfbe99e9c4a4464a9ac615a9815715df",
       "version_major": 2,
       "version_minor": 0
      },
      "text/plain": [
       "  0%|          | 0/188 [00:00<?, ?it/s]"
      ]
     },
     "metadata": {},
     "output_type": "display_data"
    },
    {
     "name": "stdout",
     "output_type": "stream",
     "text": [
      "Epoch 1: acc_train = 0.9105925925925926 loss_train = 0.008874165287724247 acc_val = 0.9523333333333334 loss_val = 0.004857874234517416\n",
      "Saving model: best_loss_val = 1e+18 > loss_val = 0.004857874234517416\n"
     ]
    },
    {
     "data": {
      "application/vnd.jupyter.widget-view+json": {
       "model_id": "997084db26394ed4a42ccc69eafbb082",
       "version_major": 2,
       "version_minor": 0
      },
      "text/plain": [
       "  0%|          | 0/1688 [00:00<?, ?it/s]"
      ]
     },
     "metadata": {},
     "output_type": "display_data"
    },
    {
     "data": {
      "application/vnd.jupyter.widget-view+json": {
       "model_id": "4cd351dcb0a74a6db3e719505734d567",
       "version_major": 2,
       "version_minor": 0
      },
      "text/plain": [
       "  0%|          | 0/188 [00:00<?, ?it/s]"
      ]
     },
     "metadata": {},
     "output_type": "display_data"
    },
    {
     "name": "stdout",
     "output_type": "stream",
     "text": [
      "Epoch 2: acc_train = 0.9611296296296297 loss_train = 0.003899815594708478 acc_val = 0.9631666666666666 loss_val = 0.003648871421813965\n",
      "Saving model: best_loss_val = 0.004857874234517416 > loss_val = 0.003648871421813965\n"
     ]
    },
    {
     "data": {
      "application/vnd.jupyter.widget-view+json": {
       "model_id": "2635741dd1994e72b110c894fd0a5c5d",
       "version_major": 2,
       "version_minor": 0
      },
      "text/plain": [
       "  0%|          | 0/1688 [00:00<?, ?it/s]"
      ]
     },
     "metadata": {},
     "output_type": "display_data"
    },
    {
     "data": {
      "application/vnd.jupyter.widget-view+json": {
       "model_id": "1d7cb274c2c44fd8bdb216a998d3a94f",
       "version_major": 2,
       "version_minor": 0
      },
      "text/plain": [
       "  0%|          | 0/188 [00:00<?, ?it/s]"
      ]
     },
     "metadata": {},
     "output_type": "display_data"
    },
    {
     "name": "stdout",
     "output_type": "stream",
     "text": [
      "Epoch 3: acc_train = 0.9738518518518519 loss_train = 0.002611234311704282 acc_val = 0.9661666666666666 loss_val = 0.0032255420684814454\n",
      "Saving model: best_loss_val = 0.003648871421813965 > loss_val = 0.0032255420684814454\n"
     ]
    },
    {
     "data": {
      "application/vnd.jupyter.widget-view+json": {
       "model_id": "636e587eda134307b379a4dd8649f37c",
       "version_major": 2,
       "version_minor": 0
      },
      "text/plain": [
       "  0%|          | 0/1688 [00:00<?, ?it/s]"
      ]
     },
     "metadata": {},
     "output_type": "display_data"
    },
    {
     "data": {
      "application/vnd.jupyter.widget-view+json": {
       "model_id": "6e6d9c9998854dcaa05d167a8f57d607",
       "version_major": 2,
       "version_minor": 0
      },
      "text/plain": [
       "  0%|          | 0/188 [00:00<?, ?it/s]"
      ]
     },
     "metadata": {},
     "output_type": "display_data"
    },
    {
     "name": "stdout",
     "output_type": "stream",
     "text": [
      "Epoch 4: acc_train = 0.98 loss_train = 0.001980682796902127 acc_val = 0.9848333333333333 loss_val = 0.0016717012723286946\n",
      "Saving model: best_loss_val = 0.0032255420684814454 > loss_val = 0.0016717012723286946\n"
     ]
    },
    {
     "data": {
      "application/vnd.jupyter.widget-view+json": {
       "model_id": "67faa6251dd4476ca8df06be47588888",
       "version_major": 2,
       "version_minor": 0
      },
      "text/plain": [
       "  0%|          | 0/1688 [00:00<?, ?it/s]"
      ]
     },
     "metadata": {},
     "output_type": "display_data"
    },
    {
     "data": {
      "application/vnd.jupyter.widget-view+json": {
       "model_id": "36297f4889b04afd89be2a85c362840a",
       "version_major": 2,
       "version_minor": 0
      },
      "text/plain": [
       "  0%|          | 0/188 [00:00<?, ?it/s]"
      ]
     },
     "metadata": {},
     "output_type": "display_data"
    },
    {
     "name": "stdout",
     "output_type": "stream",
     "text": [
      "Epoch 5: acc_train = 0.9826481481481482 loss_train = 0.00164574220445421 acc_val = 0.9805 loss_val = 0.0019105979601542155\n"
     ]
    },
    {
     "data": {
      "application/vnd.jupyter.widget-view+json": {
       "model_id": "3e09c6b2d5bc4482873c4a889c9b1b9c",
       "version_major": 2,
       "version_minor": 0
      },
      "text/plain": [
       "  0%|          | 0/1688 [00:00<?, ?it/s]"
      ]
     },
     "metadata": {},
     "output_type": "display_data"
    },
    {
     "data": {
      "application/vnd.jupyter.widget-view+json": {
       "model_id": "7111f76da88549e9a8cfae341980d356",
       "version_major": 2,
       "version_minor": 0
      },
      "text/plain": [
       "  0%|          | 0/188 [00:00<?, ?it/s]"
      ]
     },
     "metadata": {},
     "output_type": "display_data"
    },
    {
     "name": "stdout",
     "output_type": "stream",
     "text": [
      "Epoch 6: acc_train = 0.9854814814814815 loss_train = 0.001408216264512804 acc_val = 0.9865 loss_val = 0.001198611815770467\n",
      "Saving model: best_loss_val = 0.0016717012723286946 > loss_val = 0.001198611815770467\n"
     ]
    },
    {
     "data": {
      "application/vnd.jupyter.widget-view+json": {
       "model_id": "f4a50f82a36f4120b21a04060168400e",
       "version_major": 2,
       "version_minor": 0
      },
      "text/plain": [
       "  0%|          | 0/1688 [00:00<?, ?it/s]"
      ]
     },
     "metadata": {},
     "output_type": "display_data"
    },
    {
     "data": {
      "application/vnd.jupyter.widget-view+json": {
       "model_id": "6d1db7fd344b43ce9cff3a4a3f5d9b74",
       "version_major": 2,
       "version_minor": 0
      },
      "text/plain": [
       "  0%|          | 0/188 [00:00<?, ?it/s]"
      ]
     },
     "metadata": {},
     "output_type": "display_data"
    },
    {
     "name": "stdout",
     "output_type": "stream",
     "text": [
      "Epoch 7: acc_train = 0.9874444444444445 loss_train = 0.001227132726598669 acc_val = 0.9846666666666667 loss_val = 0.0012881425221761068\n"
     ]
    },
    {
     "data": {
      "application/vnd.jupyter.widget-view+json": {
       "model_id": "4d63d627974248d3b11d28712c37f992",
       "version_major": 2,
       "version_minor": 0
      },
      "text/plain": [
       "  0%|          | 0/1688 [00:00<?, ?it/s]"
      ]
     },
     "metadata": {},
     "output_type": "display_data"
    },
    {
     "data": {
      "application/vnd.jupyter.widget-view+json": {
       "model_id": "327da2c37cae454c92a1f16b0b4f08c9",
       "version_major": 2,
       "version_minor": 0
      },
      "text/plain": [
       "  0%|          | 0/188 [00:00<?, ?it/s]"
      ]
     },
     "metadata": {},
     "output_type": "display_data"
    },
    {
     "name": "stdout",
     "output_type": "stream",
     "text": [
      "Epoch 8: acc_train = 0.9897592592592592 loss_train = 0.0010173548945674189 acc_val = 0.988 loss_val = 0.0011150782108306884\n",
      "Saving model: best_loss_val = 0.001198611815770467 > loss_val = 0.0011150782108306884\n"
     ]
    },
    {
     "data": {
      "application/vnd.jupyter.widget-view+json": {
       "model_id": "455443786a70445db6ee7ae72b270237",
       "version_major": 2,
       "version_minor": 0
      },
      "text/plain": [
       "  0%|          | 0/1688 [00:00<?, ?it/s]"
      ]
     },
     "metadata": {},
     "output_type": "display_data"
    },
    {
     "data": {
      "application/vnd.jupyter.widget-view+json": {
       "model_id": "ebc3252b72af4458a2f9799bff8dd0a5",
       "version_major": 2,
       "version_minor": 0
      },
      "text/plain": [
       "  0%|          | 0/188 [00:00<?, ?it/s]"
      ]
     },
     "metadata": {},
     "output_type": "display_data"
    },
    {
     "name": "stdout",
     "output_type": "stream",
     "text": [
      "Epoch 9: acc_train = 0.9900555555555556 loss_train = 0.0009392291881419995 acc_val = 0.9885 loss_val = 0.0013371709187825521\n"
     ]
    },
    {
     "data": {
      "application/vnd.jupyter.widget-view+json": {
       "model_id": "d4e2672ef01443c5bd5118319d4d306a",
       "version_major": 2,
       "version_minor": 0
      },
      "text/plain": [
       "  0%|          | 0/1688 [00:00<?, ?it/s]"
      ]
     },
     "metadata": {},
     "output_type": "display_data"
    },
    {
     "data": {
      "application/vnd.jupyter.widget-view+json": {
       "model_id": "8deb89bf79a84c389e3d248fff9ba4e6",
       "version_major": 2,
       "version_minor": 0
      },
      "text/plain": [
       "  0%|          | 0/188 [00:00<?, ?it/s]"
      ]
     },
     "metadata": {},
     "output_type": "display_data"
    },
    {
     "name": "stdout",
     "output_type": "stream",
     "text": [
      "Epoch 10: acc_train = 0.9917222222222222 loss_train = 0.000815513257627134 acc_val = 0.9833333333333333 loss_val = 0.0017046488126118977\n"
     ]
    }
   ],
   "source": [
    "best_loss_val = 1e18\n",
    "for epoch in range(PARTS):\n",
    "    train_loader, validation_loader = generate_loaders(epoch % PARTS)\n",
    "    acc_train, loss_train = train_epoch(train_loader, True)\n",
    "    with torch.no_grad():\n",
    "        acc_val, loss_val = train_epoch(validation_loader, False)\n",
    "    print(f\"Epoch {epoch+1}: {acc_train = } {loss_train = } {acc_val = } {loss_val = }\")\n",
    "    if best_loss_val > loss_val:\n",
    "        print(f\"Saving model: {best_loss_val = } > {loss_val = }\")\n",
    "        best_loss_val = loss_val\n",
    "        torch.save(model.state_dict(), './data/model_dict.pt')\n"
   ]
  },
  {
   "cell_type": "markdown",
   "metadata": {},
   "source": [
    "## Testing"
   ]
  },
  {
   "cell_type": "code",
   "execution_count": 9,
   "metadata": {},
   "outputs": [],
   "source": [
    "import torch.utils.data\n",
    "import torchvision.datasets\n",
    "\n",
    "test = torchvision.datasets.MNIST(\n",
    "    root = \"./data\",\n",
    "    train = False,\n",
    "    download = True,\n",
    "    transform = dataset_transform\n",
    ")\n"
   ]
  },
  {
   "cell_type": "code",
   "execution_count": 10,
   "metadata": {},
   "outputs": [
    {
     "data": {
      "application/vnd.jupyter.widget-view+json": {
       "model_id": "dd7e89114f2f4fdabacf19c74339a577",
       "version_major": 2,
       "version_minor": 0
      },
      "text/plain": [
       "  0%|          | 0/313 [00:00<?, ?it/s]"
      ]
     },
     "metadata": {},
     "output_type": "display_data"
    },
    {
     "name": "stdout",
     "output_type": "stream",
     "text": [
      "acc_test = 0.9869, loss_test = 0.0013912675857543945\n"
     ]
    }
   ],
   "source": [
    "model.load_state_dict(torch.load('./data/model_dict.pt'))\n",
    "test_loader = DataLoader(test, batch_size = BATCH_SIZE, shuffle=False)\n",
    "with torch.no_grad():\n",
    "    acc_test, loss_test = train_epoch(test_loader, False)\n",
    "\n",
    "print(f\"{acc_test = }, {loss_test = }\")\n"
   ]
  },
  {
   "cell_type": "markdown",
   "metadata": {},
   "source": [
    "## Export\n"
   ]
  },
  {
   "cell_type": "code",
   "execution_count": 11,
   "metadata": {},
   "outputs": [],
   "source": [
    "import torch\n",
    "\n",
    "model.load_state_dict(torch.load('./data/model_dict.pt'))\n",
    "\n",
    "random_input = torch.rand(1, 1, *IMAGE_SIZE).to(DEVICE)\n",
    "script_module = torch.jit.trace(model, random_input)\n",
    "\n",
    "script_module.save('./data/model_exported.pt')\n"
   ]
  }
 ],
 "metadata": {
  "kernelspec": {
   "display_name": "ai",
   "language": "python",
   "name": "python3"
  },
  "language_info": {
   "codemirror_mode": {
    "name": "ipython",
    "version": 3
   },
   "file_extension": ".py",
   "mimetype": "text/x-python",
   "name": "python",
   "nbconvert_exporter": "python",
   "pygments_lexer": "ipython3",
   "version": "3.11.4"
  },
  "orig_nbformat": 4
 },
 "nbformat": 4,
 "nbformat_minor": 2
}
